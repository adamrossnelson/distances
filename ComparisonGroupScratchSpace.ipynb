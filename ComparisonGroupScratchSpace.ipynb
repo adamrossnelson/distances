{
 "metadata": {
  "language_info": {
   "codemirror_mode": {
    "name": "ipython",
    "version": 3
   },
   "file_extension": ".py",
   "mimetype": "text/x-python",
   "name": "python",
   "nbconvert_exporter": "python",
   "pygments_lexer": "ipython3",
   "version": "3.8.3-final"
  },
  "orig_nbformat": 2,
  "kernelspec": {
   "name": "python3",
   "display_name": "Python 3.8.3 64-bit ('anaconda3': virtualenv)",
   "metadata": {
    "interpreter": {
     "hash": "6467175fa08214b6a4d27b1401a45cd29bcdfa896f5892746f5d38e0b2aa475d"
    }
   }
  }
 },
 "nbformat": 4,
 "nbformat_minor": 2,
 "cells": [
  {
   "source": [
    "# Overview\n",
    "\n",
    "This notebook is a scratch space."
   ],
   "cell_type": "markdown",
   "metadata": {}
  },
  {
   "cell_type": "code",
   "execution_count": 15,
   "metadata": {},
   "outputs": [],
   "source": [
    "import pandas as pd\n",
    "import numpy as np"
   ]
  },
  {
   "cell_type": "code",
   "execution_count": 26,
   "metadata": {},
   "outputs": [],
   "source": [
    "data = {'Inst':['Institution A','Institution B',\n",
    "                'Institution C','Institution D'],\n",
    "        'Size':[19000,11500,7750,23000],\n",
    "        'Cost':[22000,19000,12000,10500],\n",
    "        'isBig':[1,0,0,1],\n",
    "        'isExpensive':[1,1,0,0,],\n",
    "        'isSelect':[1,0,0,1]}"
   ]
  },
  {
   "cell_type": "code",
   "execution_count": 27,
   "metadata": {},
   "outputs": [
    {
     "output_type": "execute_result",
     "data": {
      "text/plain": [
       "            Inst   Size   Cost  isBig  isExpensive  isSelect\n",
       "0  Institution A  19000  22000      1            1         1\n",
       "1  Institution B  11500  19000      0            1         0\n",
       "2  Institution C   7750  12000      0            0         0\n",
       "3  Institution D  23000  10500      1            0         1"
      ],
      "text/html": "<div>\n<style scoped>\n    .dataframe tbody tr th:only-of-type {\n        vertical-align: middle;\n    }\n\n    .dataframe tbody tr th {\n        vertical-align: top;\n    }\n\n    .dataframe thead th {\n        text-align: right;\n    }\n</style>\n<table border=\"1\" class=\"dataframe\">\n  <thead>\n    <tr style=\"text-align: right;\">\n      <th></th>\n      <th>Inst</th>\n      <th>Size</th>\n      <th>Cost</th>\n      <th>isBig</th>\n      <th>isExpensive</th>\n      <th>isSelect</th>\n    </tr>\n  </thead>\n  <tbody>\n    <tr>\n      <th>0</th>\n      <td>Institution A</td>\n      <td>19000</td>\n      <td>22000</td>\n      <td>1</td>\n      <td>1</td>\n      <td>1</td>\n    </tr>\n    <tr>\n      <th>1</th>\n      <td>Institution B</td>\n      <td>11500</td>\n      <td>19000</td>\n      <td>0</td>\n      <td>1</td>\n      <td>0</td>\n    </tr>\n    <tr>\n      <th>2</th>\n      <td>Institution C</td>\n      <td>7750</td>\n      <td>12000</td>\n      <td>0</td>\n      <td>0</td>\n      <td>0</td>\n    </tr>\n    <tr>\n      <th>3</th>\n      <td>Institution D</td>\n      <td>23000</td>\n      <td>10500</td>\n      <td>1</td>\n      <td>0</td>\n      <td>1</td>\n    </tr>\n  </tbody>\n</table>\n</div>"
     },
     "metadata": {},
     "execution_count": 27
    }
   ],
   "source": [
    "df = pd.DataFrame(data)\n",
    "df"
   ]
  },
  {
   "source": [
    "## Jaccard Index"
   ],
   "cell_type": "markdown",
   "metadata": {}
  },
  {
   "cell_type": "code",
   "execution_count": 4,
   "metadata": {},
   "outputs": [
    {
     "output_type": "stream",
     "name": "stdout",
     "text": [
      "Number of matching observations : 2\nJacard Index distance           : 0.33333333333333337\n"
     ]
    }
   ],
   "source": [
    "# Goal: Count the number of matching dimensions among two observations\n",
    "#       Caluclate Jaccard Index distance\n",
    "a = df[['isBig','isExpensive','isSelect']].iloc[3]\n",
    "b = df[['isBig','isExpensive','isSelect']].iloc[0]\n",
    "matches = sum([1 if x == y else 0 for x, y in zip(a,b)])\n",
    "distance = 1 - (matches / len(b))\n",
    "print('Number of matching observations : {}'.format(matches))\n",
    "print('Jacard Index distance           : {}'.format(distance))"
   ]
  },
  {
   "cell_type": "code",
   "execution_count": 29,
   "metadata": {},
   "outputs": [],
   "source": [
    "def jaccard(data, ref, cols):\n",
    "    '''Calculates Jarcard index for all observations\n",
    "    relative to the referenced observation. Returns a list\n",
    "    of distances.\n",
    "    \n",
    "    data = A dataframe.\n",
    "    ref = An observation specified with pandas.iloc[]\n",
    "    cols = A set of comparison columns.'''\n",
    "\n",
    "    distances = []\n",
    "    length = len(ref[cols])\n",
    "    ref_observation = ref[cols]\n",
    "    for row in data.index.to_list():\n",
    "        comp_observation = data[cols].iloc[row]\n",
    "        matches = sum([1 if x == y else 0 for x, y in zip(comp_observation,\n",
    "                                                          ref_observation)])\n",
    "        distances.append(1 - (matches / length))\n",
    "    return(distances)"
   ]
  },
  {
   "cell_type": "code",
   "execution_count": 30,
   "metadata": {},
   "outputs": [
    {
     "output_type": "execute_result",
     "data": {
      "text/plain": [
       "            Inst   Size   Cost  isBig  isExpensive  isSelect  Hamming  \\\n",
       "0  Institution A  19000  22000      1            1         1        2   \n",
       "1  Institution B  11500  19000      0            1         0        0   \n",
       "2  Institution C   7750  12000      0            0         0        1   \n",
       "3  Institution D  23000  10500      1            0         1        3   \n",
       "\n",
       "    Jaccard  \n",
       "0  0.333333  \n",
       "1  1.000000  \n",
       "2  0.666667  \n",
       "3  0.000000  "
      ],
      "text/html": "<div>\n<style scoped>\n    .dataframe tbody tr th:only-of-type {\n        vertical-align: middle;\n    }\n\n    .dataframe tbody tr th {\n        vertical-align: top;\n    }\n\n    .dataframe thead th {\n        text-align: right;\n    }\n</style>\n<table border=\"1\" class=\"dataframe\">\n  <thead>\n    <tr style=\"text-align: right;\">\n      <th></th>\n      <th>Inst</th>\n      <th>Size</th>\n      <th>Cost</th>\n      <th>isBig</th>\n      <th>isExpensive</th>\n      <th>isSelect</th>\n      <th>Hamming</th>\n      <th>Jaccard</th>\n    </tr>\n  </thead>\n  <tbody>\n    <tr>\n      <th>0</th>\n      <td>Institution A</td>\n      <td>19000</td>\n      <td>22000</td>\n      <td>1</td>\n      <td>1</td>\n      <td>1</td>\n      <td>2</td>\n      <td>0.333333</td>\n    </tr>\n    <tr>\n      <th>1</th>\n      <td>Institution B</td>\n      <td>11500</td>\n      <td>19000</td>\n      <td>0</td>\n      <td>1</td>\n      <td>0</td>\n      <td>0</td>\n      <td>1.000000</td>\n    </tr>\n    <tr>\n      <th>2</th>\n      <td>Institution C</td>\n      <td>7750</td>\n      <td>12000</td>\n      <td>0</td>\n      <td>0</td>\n      <td>0</td>\n      <td>1</td>\n      <td>0.666667</td>\n    </tr>\n    <tr>\n      <th>3</th>\n      <td>Institution D</td>\n      <td>23000</td>\n      <td>10500</td>\n      <td>1</td>\n      <td>0</td>\n      <td>1</td>\n      <td>3</td>\n      <td>0.000000</td>\n    </tr>\n  </tbody>\n</table>\n</div>"
     },
     "metadata": {},
     "execution_count": 30
    }
   ],
   "source": [
    "ref_institution = df.iloc[3]\n",
    "df['Jaccard'] = jaccard(data=df, ref=ref_institution, \n",
    "                        cols=['isBig', 'isExpensive', 'isSelect'])\n",
    "df"
   ]
  },
  {
   "source": [
    "## Hamming Distance"
   ],
   "cell_type": "markdown",
   "metadata": {}
  },
  {
   "cell_type": "code",
   "execution_count": 24,
   "metadata": {},
   "outputs": [],
   "source": [
    "# Goal: Count the number of matching dimensions among two observations\n",
    "def hamming(data, ref, cols):\n",
    "    '''Calculates Hamming distance for all observations\n",
    "    relative to the referenced observation. Returns a list\n",
    "    of distances.\n",
    "    \n",
    "    data = A dataframe.\n",
    "    ref = An observation specified with pandas.iloc[]\n",
    "    cols = A set of comparison columns.'''\n",
    "\n",
    "    distances = []\n",
    "    ref_observation = ref[cols]\n",
    "    for row in data.index.to_list():\n",
    "        comp_observation = data[cols].iloc[row]\n",
    "        matches = sum([1 if x == y else 0 for x, y in zip(comp_observation,\n",
    "                                                          ref_observation)])\n",
    "        distances.append(matches)\n",
    "    return(distances)"
   ]
  },
  {
   "cell_type": "code",
   "execution_count": 28,
   "metadata": {},
   "outputs": [
    {
     "output_type": "execute_result",
     "data": {
      "text/plain": [
       "            Inst   Size   Cost  isBig  isExpensive  isSelect  Hamming\n",
       "0  Institution A  19000  22000      1            1         1        2\n",
       "1  Institution B  11500  19000      0            1         0        0\n",
       "2  Institution C   7750  12000      0            0         0        1\n",
       "3  Institution D  23000  10500      1            0         1        3"
      ],
      "text/html": "<div>\n<style scoped>\n    .dataframe tbody tr th:only-of-type {\n        vertical-align: middle;\n    }\n\n    .dataframe tbody tr th {\n        vertical-align: top;\n    }\n\n    .dataframe thead th {\n        text-align: right;\n    }\n</style>\n<table border=\"1\" class=\"dataframe\">\n  <thead>\n    <tr style=\"text-align: right;\">\n      <th></th>\n      <th>Inst</th>\n      <th>Size</th>\n      <th>Cost</th>\n      <th>isBig</th>\n      <th>isExpensive</th>\n      <th>isSelect</th>\n      <th>Hamming</th>\n    </tr>\n  </thead>\n  <tbody>\n    <tr>\n      <th>0</th>\n      <td>Institution A</td>\n      <td>19000</td>\n      <td>22000</td>\n      <td>1</td>\n      <td>1</td>\n      <td>1</td>\n      <td>2</td>\n    </tr>\n    <tr>\n      <th>1</th>\n      <td>Institution B</td>\n      <td>11500</td>\n      <td>19000</td>\n      <td>0</td>\n      <td>1</td>\n      <td>0</td>\n      <td>0</td>\n    </tr>\n    <tr>\n      <th>2</th>\n      <td>Institution C</td>\n      <td>7750</td>\n      <td>12000</td>\n      <td>0</td>\n      <td>0</td>\n      <td>0</td>\n      <td>1</td>\n    </tr>\n    <tr>\n      <th>3</th>\n      <td>Institution D</td>\n      <td>23000</td>\n      <td>10500</td>\n      <td>1</td>\n      <td>0</td>\n      <td>1</td>\n      <td>3</td>\n    </tr>\n  </tbody>\n</table>\n</div>"
     },
     "metadata": {},
     "execution_count": 28
    }
   ],
   "source": [
    "ref_institution = df.iloc[3]\n",
    "df['Hamming'] = hamming(data=df, ref=ref_institution, \n",
    "                        cols=['isBig', 'isExpensive', 'isSelect'])\n",
    "df"
   ]
  },
  {
   "source": [
    "## Euclidean Distance"
   ],
   "cell_type": "markdown",
   "metadata": {}
  },
  {
   "cell_type": "code",
   "execution_count": 32,
   "metadata": {},
   "outputs": [
    {
     "output_type": "execute_result",
     "data": {
      "text/plain": [
       "5.830951894845301"
      ]
     },
     "metadata": {},
     "execution_count": 32
    }
   ],
   "source": [
    "# Goal: Caluclate Jaccard Index distance\n",
    "from math import sqrt\n",
    "sqrt(3**2 + 5**2)"
   ]
  },
  {
   "cell_type": "code",
   "execution_count": null,
   "metadata": {},
   "outputs": [],
   "source": []
  }
 ]
}